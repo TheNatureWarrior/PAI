{
 "cells": [
  {
   "cell_type": "markdown",
   "id": "b4de9a75",
   "metadata": {},
   "source": [
    "# First Assignment, Naat Ambrosino, v.1 \n",
    "## CS-150-01 FA21 Prof. Sarkar"
   ]
  },
  {
   "cell_type": "code",
   "execution_count": 20,
   "id": "2e0e958e",
   "metadata": {},
   "outputs": [
    {
     "name": "stdout",
     "output_type": "stream",
     "text": [
      "Enter a floating point number: 2.332\n",
      "Enter an integer: 1\n",
      "The sum of those numbers is 3.332\n",
      "For 2.332 - 1 the difference is 1.3319999999999999\n",
      "For 1 - 2.332 the difference is -1.3319999999999999\n",
      "The product of the numbers is 2.332\n",
      "The quotient with 2.332 as the numerator is 2.332 ; with 1 as the numerator it is 0.42881646655231564\n",
      "The type of the first quotient is <class 'float'> ; the type of the second is <class 'float'>\n"
     ]
    }
   ],
   "source": [
    "#prompting user for floating point number\n",
    "floating1 = float(input(\"Enter a floating point number: \"))\n",
    "\n",
    "#prompting user for an integer\n",
    "integer1 = int(input(\"Enter an integer: \"))\n",
    "\n",
    "#Summing those numbers (floating1 and integer1)\n",
    "print(\"The sum of those numbers is\", floating1 + integer1)\n",
    "#subtracting the two numbers, first floating1 - integer1, then visa versa\n",
    "print(\"For\", floating1,\"-\",integer1, \"the difference is\", floating1 - integer1)\n",
    "print(\"For\", integer1,\"-\",floating1,\"the difference is\", integer1 - floating1)\n",
    "#multiplying the two numbers\n",
    "print(\"The product of the numbers is\", floating1 * integer1)\n",
    "#dividing\n",
    "print(\"The quotient with\", floating1, \"as the numerator is\", floating1 / integer1,\"; with\", integer1, \"as the numerator it is\", integer1 / floating1)\n",
    "#I'm not exactly sure what result I'm supposed to be using for the line that says The type for the result is <class 'float', so I'll use the quotients.\n",
    "print(\"The type of the first quotient is\", type(floating1/integer1), \"; the type of the second is\", type(integer1/floating1))"
   ]
  },
  {
   "cell_type": "code",
   "execution_count": 2,
   "id": "4e709e3f",
   "metadata": {},
   "outputs": [
    {
     "data": {
      "text/plain": [
       "float"
      ]
     },
     "execution_count": 2,
     "metadata": {},
     "output_type": "execute_result"
    }
   ],
   "source": [
    "type(floating1)"
   ]
  },
  {
   "cell_type": "code",
   "execution_count": 3,
   "id": "4d3b5288",
   "metadata": {},
   "outputs": [
    {
     "data": {
      "text/plain": [
       "1.0"
      ]
     },
     "execution_count": 3,
     "metadata": {},
     "output_type": "execute_result"
    }
   ],
   "source": [
    "floating1"
   ]
  },
  {
   "cell_type": "code",
   "execution_count": null,
   "id": "2649a869",
   "metadata": {},
   "outputs": [],
   "source": []
  }
 ],
 "metadata": {
  "kernelspec": {
   "display_name": "Python 3",
   "language": "python",
   "name": "python3"
  },
  "language_info": {
   "codemirror_mode": {
    "name": "ipython",
    "version": 3
   },
   "file_extension": ".py",
   "mimetype": "text/x-python",
   "name": "python",
   "nbconvert_exporter": "python",
   "pygments_lexer": "ipython3",
   "version": "3.8.8"
  }
 },
 "nbformat": 4,
 "nbformat_minor": 5
}
# PAI
